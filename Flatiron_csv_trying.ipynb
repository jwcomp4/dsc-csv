{
 "cells": [
  {
   "cell_type": "code",
   "execution_count": 1,
   "id": "ae4d62b2",
   "metadata": {},
   "outputs": [
    {
     "ename": "SyntaxError",
     "evalue": "invalid syntax (3039836329.py, line 1)",
     "output_type": "error",
     "traceback": [
      "\u001b[0;36m  Input \u001b[0;32mIn [1]\u001b[0;36m\u001b[0m\n\u001b[0;31m    csv_file_path = ./olympic_medals.csv\u001b[0m\n\u001b[0m                    ^\u001b[0m\n\u001b[0;31mSyntaxError\u001b[0m\u001b[0;31m:\u001b[0m invalid syntax\n"
     ]
    }
   ],
   "source": [
    "csv_file_path = ./olympic_medals.csv"
   ]
  },
  {
   "cell_type": "code",
   "execution_count": 2,
   "id": "2e0f7570",
   "metadata": {},
   "outputs": [],
   "source": [
    "csv_file_path = \"./olympic_medals.csv\""
   ]
  },
  {
   "cell_type": "code",
   "execution_count": 3,
   "id": "2360060b",
   "metadata": {},
   "outputs": [
    {
     "data": {
      "text/plain": [
       "'./olympic_medals.csv'"
      ]
     },
     "execution_count": 3,
     "metadata": {},
     "output_type": "execute_result"
    }
   ],
   "source": [
    "csv_file_path"
   ]
  },
  {
   "cell_type": "code",
   "execution_count": 4,
   "id": "84be5c7e",
   "metadata": {},
   "outputs": [
    {
     "name": "stdout",
     "output_type": "stream",
     "text": [
      "Gender,Event,Location,Year,Medal,Name,Nationality,Result\n",
      "\n"
     ]
    }
   ],
   "source": [
    "with open(csv_file_path) as csv_file:\n",
    "    print(csv_file.readline())\n",
    "    "
   ]
  },
  {
   "cell_type": "code",
   "execution_count": 5,
   "id": "f084da26",
   "metadata": {},
   "outputs": [
    {
     "name": "stdout",
     "output_type": "stream",
     "text": [
      "M,10000M Men,Rio,2016,G,Mohamed FARAH,GBR,25:05.17\n",
      "\n"
     ]
    }
   ],
   "source": [
    "with open(csv_file_path) as csv_file:\n",
    "    csv_file.readline()\n",
    "    print(csv_file.readline())"
   ]
  },
  {
   "cell_type": "markdown",
   "id": "69d3e4e8",
   "metadata": {},
   "source": [
    "Here seems like the code works from the logic that the code doesn't goe backward. It read the first line. Done. Then it moved to the next line and printed it per the command"
   ]
  },
  {
   "cell_type": "code",
   "execution_count": 6,
   "id": "0ed9af02",
   "metadata": {},
   "outputs": [
    {
     "ename": "AttributeError",
     "evalue": "module 'csv' has no attribute 'dictreader'",
     "output_type": "error",
     "traceback": [
      "\u001b[0;31m---------------------------------------------------------------------------\u001b[0m",
      "\u001b[0;31mAttributeError\u001b[0m                            Traceback (most recent call last)",
      "Input \u001b[0;32mIn [6]\u001b[0m, in \u001b[0;36m<cell line: 3>\u001b[0;34m()\u001b[0m\n\u001b[1;32m      1\u001b[0m \u001b[38;5;28;01mimport\u001b[39;00m \u001b[38;5;21;01mcsv\u001b[39;00m \n\u001b[1;32m      3\u001b[0m \u001b[38;5;28;01mwith\u001b[39;00m \u001b[38;5;28mopen\u001b[39m(csv_file_path) \u001b[38;5;28;01mas\u001b[39;00m csv_file:\n\u001b[0;32m----> 4\u001b[0m     reader \u001b[38;5;241m=\u001b[39m \u001b[43mcsv\u001b[49m\u001b[38;5;241;43m.\u001b[39;49m\u001b[43mdictreader\u001b[49m(csv_file)\n\u001b[1;32m      5\u001b[0m     \u001b[38;5;28mprint\u001b[39m(\u001b[38;5;28mnext\u001b[39m(reader))\n",
      "\u001b[0;31mAttributeError\u001b[0m: module 'csv' has no attribute 'dictreader'"
     ]
    }
   ],
   "source": [
    "import csv \n",
    "\n",
    "with open(csv_file_path) as csv_file:\n",
    "    reader = csv.dictreader(csv_file)\n",
    "    print(next(reader))"
   ]
  },
  {
   "cell_type": "code",
   "execution_count": 7,
   "id": "5bcb2af1",
   "metadata": {},
   "outputs": [
    {
     "name": "stdout",
     "output_type": "stream",
     "text": [
      "{'Gender': 'M', 'Event': '10000M Men', 'Location': 'Rio', 'Year': '2016', 'Medal': 'G', 'Name': 'Mohamed FARAH', 'Nationality': 'GBR', 'Result': '25:05.17'}\n"
     ]
    }
   ],
   "source": [
    "import csv \n",
    "\n",
    "with open(csv_file_path) as csv_file:\n",
    "    reader = csv.DictReader(csv_file)\n",
    "    print(next(reader))"
   ]
  },
  {
   "cell_type": "markdown",
   "id": "f56cdbce",
   "metadata": {},
   "source": [
    "First you import the csv library\n",
    "then use the same with statement \n",
    "assign the csv.DictReader(csv_file) to the variable reader\n",
    "Then print the next line. \n",
    "outputs the first row headers as the key and then the contents of that key."
   ]
  },
  {
   "cell_type": "code",
   "execution_count": 9,
   "id": "7b87b999",
   "metadata": {},
   "outputs": [],
   "source": [
    "medals = []\n",
    "\n",
    "with open(csv_file_path) as csv_file:\n",
    "    reader = csv.DictReader(csv_file)\n",
    "    for row in reader:\n",
    "        medals.append(row)"
   ]
  },
  {
   "cell_type": "code",
   "execution_count": 10,
   "id": "eb06269b",
   "metadata": {},
   "outputs": [
    {
     "data": {
      "text/plain": [
       "[{'Gender': 'M',\n",
       "  'Event': '10000M Men',\n",
       "  'Location': 'Rio',\n",
       "  'Year': '2016',\n",
       "  'Medal': 'G',\n",
       "  'Name': 'Mohamed FARAH',\n",
       "  'Nationality': 'GBR',\n",
       "  'Result': '25:05.17'},\n",
       " {'Gender': 'M',\n",
       "  'Event': '10000M Men',\n",
       "  'Location': 'Rio',\n",
       "  'Year': '2016',\n",
       "  'Medal': 'S',\n",
       "  'Name': 'Paul Kipngetich TANUI',\n",
       "  'Nationality': 'KEN',\n",
       "  'Result': '27:05.64'},\n",
       " {'Gender': 'M',\n",
       "  'Event': '10000M Men',\n",
       "  'Location': 'Rio',\n",
       "  'Year': '2016',\n",
       "  'Medal': 'B',\n",
       "  'Name': 'Tamirat TOLA',\n",
       "  'Nationality': 'ETH',\n",
       "  'Result': '27:06.26'}]"
      ]
     },
     "execution_count": 10,
     "metadata": {},
     "output_type": "execute_result"
    }
   ],
   "source": [
    "medals[0:3]"
   ]
  },
  {
   "cell_type": "markdown",
   "id": "519108ac",
   "metadata": {},
   "source": [
    "This syntax puts all of your data from the .csv in an object called medals"
   ]
  }
 ],
 "metadata": {
  "kernelspec": {
   "display_name": "Python 3 (ipykernel)",
   "language": "python",
   "name": "python3"
  },
  "language_info": {
   "codemirror_mode": {
    "name": "ipython",
    "version": 3
   },
   "file_extension": ".py",
   "mimetype": "text/x-python",
   "name": "python",
   "nbconvert_exporter": "python",
   "pygments_lexer": "ipython3",
   "version": "3.9.12"
  }
 },
 "nbformat": 4,
 "nbformat_minor": 5
}
