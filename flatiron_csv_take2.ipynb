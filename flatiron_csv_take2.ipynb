{
 "cells": [
  {
   "cell_type": "code",
   "execution_count": 1,
   "id": "d17f293a",
   "metadata": {},
   "outputs": [],
   "source": [
    "csv_file_path = \"./olympic_medals.csv\""
   ]
  },
  {
   "cell_type": "code",
   "execution_count": 2,
   "id": "bdcdcac5",
   "metadata": {
    "scrolled": true
   },
   "outputs": [
    {
     "name": "stdout",
     "output_type": "stream",
     "text": [
      "Gender,Event,Location,Year,Medal,Name,Nationality,Result\n",
      "\n"
     ]
    }
   ],
   "source": [
    "with open(csv_file_path, encoding=\"utf8\") as csvfile:\n",
    "    print(csvfile.readline())"
   ]
  },
  {
   "cell_type": "code",
   "execution_count": 3,
   "id": "2ba6a422",
   "metadata": {},
   "outputs": [
    {
     "name": "stdout",
     "output_type": "stream",
     "text": [
      "M,10000M Men,Rio,2016,G,Mohamed FARAH,GBR,25:05.17\n",
      "\n"
     ]
    }
   ],
   "source": [
    "with open(csv_file_path, encoding=\"utf8\") as csvfile:\n",
    "    csvfile.readline()\n",
    "    print(csvfile.readline())"
   ]
  },
  {
   "cell_type": "markdown",
   "id": "a3abc5fd",
   "metadata": {},
   "source": [
    "You can put the following into terminal/gitbash and get the same result:\n",
    "$ head -n 2 ./olympic_medals.csv\n"
   ]
  },
  {
   "cell_type": "code",
   "execution_count": 4,
   "id": "6102f17f",
   "metadata": {},
   "outputs": [
    {
     "name": "stdout",
     "output_type": "stream",
     "text": [
      "{'Gender': 'M', 'Event': '10000M Men', 'Location': 'Rio', 'Year': '2016', 'Medal': 'G', 'Name': 'Mohamed FARAH', 'Nationality': 'GBR', 'Result': '25:05.17'}\n"
     ]
    }
   ],
   "source": [
    "import csv\n",
    "\n",
    "with open(csv_file_path, encoding=\"utf8\") as csvfile:\n",
    "    reader = csv.DictReader(csvfile)\n",
    "    print(next(reader))\n",
    "    \n",
    "#DictReader creates an ordered dictionary that looks like a list of tuple. Real first row values paired with the collumn headers. \n",
    "#makes the column header the dictionary key."
   ]
  },
  {
   "cell_type": "code",
   "execution_count": 5,
   "id": "f0dfae0a",
   "metadata": {},
   "outputs": [],
   "source": [
    "medals = []\n",
    "\n",
    "with open(csv_file_path, encoding=\"utf8\") as csvfile:\n",
    "    reader = csv.DictReader(csvfile)\n",
    "    for row in reader:\n",
    "        medals.append(row)\n",
    "\n",
    "#creates an empty list called medals\n",
    "#opens the csv_fle_path as csvfile\n",
    "#passes csvile into the DictReader method of csv library and assigns to var. reader\n",
    "#creates a for loop that iterates over the rows in reader and then appends each row to the medals list"
   ]
  },
  {
   "cell_type": "code",
   "execution_count": 29,
   "id": "3468430b",
   "metadata": {
    "scrolled": true
   },
   "outputs": [
    {
     "data": {
      "text/plain": [
       "[{'Gender': 'M',\n",
       "  'Event': '10000M Men',\n",
       "  'Location': 'Rio',\n",
       "  'Year': '2016',\n",
       "  'Medal': 'G',\n",
       "  'Name': 'Mohamed FARAH',\n",
       "  'Nationality': 'GBR',\n",
       "  'Result': '25:05.17',\n",
       "  'int_year': 2016,\n",
       "  'result_minute': 25,\n",
       "  'result_second': 5.17},\n",
       " {'Gender': 'M',\n",
       "  'Event': '10000M Men',\n",
       "  'Location': 'Rio',\n",
       "  'Year': '2016',\n",
       "  'Medal': 'S',\n",
       "  'Name': 'Paul Kipngetich TANUI',\n",
       "  'Nationality': 'KEN',\n",
       "  'Result': '27:05.64',\n",
       "  'int_year': 2016,\n",
       "  'result_minute': 27,\n",
       "  'result_second': 5.64},\n",
       " {'Gender': 'M',\n",
       "  'Event': '10000M Men',\n",
       "  'Location': 'Rio',\n",
       "  'Year': '2016',\n",
       "  'Medal': 'B',\n",
       "  'Name': 'Tamirat TOLA',\n",
       "  'Nationality': 'ETH',\n",
       "  'Result': '27:06.26',\n",
       "  'int_year': 2016,\n",
       "  'result_minute': 27,\n",
       "  'result_second': 6.26},\n",
       " {'Gender': 'M',\n",
       "  'Event': '10000M Men',\n",
       "  'Location': 'Beijing',\n",
       "  'Year': '2008',\n",
       "  'Medal': 'G',\n",
       "  'Name': 'Kenenisa BEKELE',\n",
       "  'Nationality': 'ETH',\n",
       "  'Result': '27:01.17',\n",
       "  'int_year': 2008,\n",
       "  'result_minute': 27,\n",
       "  'result_second': 1.17},\n",
       " {'Gender': 'M',\n",
       "  'Event': '10000M Men',\n",
       "  'Location': 'Beijing',\n",
       "  'Year': '2008',\n",
       "  'Medal': 'S',\n",
       "  'Name': 'Sileshi SIHINE',\n",
       "  'Nationality': 'ETH',\n",
       "  'Result': '27:02.77',\n",
       "  'int_year': 2008,\n",
       "  'result_minute': 27,\n",
       "  'result_second': 2.77},\n",
       " {'Gender': 'M',\n",
       "  'Event': '10000M Men',\n",
       "  'Location': 'Beijing',\n",
       "  'Year': '2008',\n",
       "  'Medal': 'B',\n",
       "  'Name': 'Micah KOGO',\n",
       "  'Nationality': 'KEN',\n",
       "  'Result': '27:04.11',\n",
       "  'int_year': 2008,\n",
       "  'result_minute': 27,\n",
       "  'result_second': 4.11},\n",
       " {'Gender': 'M',\n",
       "  'Event': '10000M Men',\n",
       "  'Location': 'Sydney',\n",
       "  'Year': '2000',\n",
       "  'Medal': 'G',\n",
       "  'Name': 'Haile GEBRSELASSIE',\n",
       "  'Nationality': 'ETH',\n",
       "  'Result': '27:18.20',\n",
       "  'int_year': 2000,\n",
       "  'result_minute': 27,\n",
       "  'result_second': 18.2},\n",
       " {'Gender': 'M',\n",
       "  'Event': '10000M Men',\n",
       "  'Location': 'Sydney',\n",
       "  'Year': '2000',\n",
       "  'Medal': 'S',\n",
       "  'Name': 'Paul TERGAT',\n",
       "  'Nationality': 'KEN',\n",
       "  'Result': '27:18.29',\n",
       "  'int_year': 2000,\n",
       "  'result_minute': 27,\n",
       "  'result_second': 18.29},\n",
       " {'Gender': 'M',\n",
       "  'Event': '10000M Men',\n",
       "  'Location': 'Sydney',\n",
       "  'Year': '2000',\n",
       "  'Medal': 'B',\n",
       "  'Name': 'Assefa MEZGEBU',\n",
       "  'Nationality': 'ETH',\n",
       "  'Result': '27:19.75',\n",
       "  'int_year': 2000,\n",
       "  'result_minute': 27,\n",
       "  'result_second': 19.75},\n",
       " {'Gender': 'M',\n",
       "  'Event': '10000M Men',\n",
       "  'Location': 'Barcelona',\n",
       "  'Year': '1992',\n",
       "  'Medal': 'G',\n",
       "  'Name': 'Khalid SKAH',\n",
       "  'Nationality': 'MAR',\n",
       "  'Result': '27:46.70',\n",
       "  'int_year': 1992,\n",
       "  'result_minute': 27,\n",
       "  'result_second': 46.7}]"
      ]
     },
     "execution_count": 29,
     "metadata": {},
     "output_type": "execute_result"
    }
   ],
   "source": [
    "medals[0:10]"
   ]
  },
  {
   "cell_type": "code",
   "execution_count": 7,
   "id": "d903919b",
   "metadata": {},
   "outputs": [
    {
     "data": {
      "text/plain": [
       "{'Gender': 'M',\n",
       " 'Event': '10000M Men',\n",
       " 'Location': 'Rio',\n",
       " 'Year': '2016',\n",
       " 'Medal': 'G',\n",
       " 'Name': 'Mohamed FARAH',\n",
       " 'Nationality': 'GBR',\n",
       " 'Result': '25:05.17'}"
      ]
     },
     "execution_count": 7,
     "metadata": {},
     "output_type": "execute_result"
    }
   ],
   "source": [
    "medals[0]"
   ]
  },
  {
   "cell_type": "code",
   "execution_count": 8,
   "id": "d0980b0c",
   "metadata": {},
   "outputs": [],
   "source": [
    "import csv #imports the csv library\n",
    "\n",
    "medals = [] #creates an empty list called medals\n",
    "\n",
    "with open(csv_file_path, encoding=\"utf8\") as csvfile: #uses open to open csv_file_path as csvfile\n",
    "    reader = csv.DictReader(csvfile) #passes the csvfile into the DictReader method of csv library and assigns to reader var.\n",
    "    for row in reader: #iterates over reader using the loop var. row\n",
    "        medals.append(row) #appends each row into the medals list.\n",
    "\n",
    "for year in medals: #initializing a for loop over medals using year as the for var. \n",
    "    string_year = year[\"Year\"] #now it's looking at the \"Year\" key and assigning the value to the var string_year\n",
    "    year[\"int_year\"] = int(string_year) #passes string_year into the int function converting it to an int and assign to new key \"int_year\"\n",
    "    #does the above for every year in the ordered dictionary of medals list"
   ]
  },
  {
   "cell_type": "code",
   "execution_count": 9,
   "id": "5a25cf61",
   "metadata": {},
   "outputs": [
    {
     "data": {
      "text/plain": [
       "{'Gender': 'M',\n",
       " 'Event': '10000M Men',\n",
       " 'Location': 'Rio',\n",
       " 'Year': '2016',\n",
       " 'Medal': 'G',\n",
       " 'Name': 'Mohamed FARAH',\n",
       " 'Nationality': 'GBR',\n",
       " 'Result': '25:05.17',\n",
       " 'int_year': 2016}"
      ]
     },
     "execution_count": 9,
     "metadata": {},
     "output_type": "execute_result"
    }
   ],
   "source": [
    "medals[0]\n",
    "#note how int_year is added to the list."
   ]
  },
  {
   "cell_type": "markdown",
   "id": "f91f8ae6",
   "metadata": {},
   "source": [
    "process the medals data to add numeric values for the \"Result\" value for minutes and seconds"
   ]
  },
  {
   "cell_type": "code",
   "execution_count": 28,
   "id": "7b4c5417",
   "metadata": {},
   "outputs": [
    {
     "ename": "ValueError",
     "evalue": "could not convert string to float: ':27.4'",
     "output_type": "error",
     "traceback": [
      "\u001b[1;31m---------------------------------------------------------------------------\u001b[0m",
      "\u001b[1;31mValueError\u001b[0m                                Traceback (most recent call last)",
      "Input \u001b[1;32mIn [28]\u001b[0m, in \u001b[0;36m<cell line: 16>\u001b[1;34m()\u001b[0m\n\u001b[0;32m     16\u001b[0m \u001b[38;5;28;01mfor\u001b[39;00m result \u001b[38;5;129;01min\u001b[39;00m medals:\n\u001b[0;32m     17\u001b[0m     minute \u001b[38;5;241m=\u001b[39m \u001b[38;5;28mint\u001b[39m(result[\u001b[38;5;124m\"\u001b[39m\u001b[38;5;124mResult\u001b[39m\u001b[38;5;124m\"\u001b[39m][:\u001b[38;5;241m2\u001b[39m])\n\u001b[1;32m---> 18\u001b[0m     second \u001b[38;5;241m=\u001b[39m \u001b[38;5;28;43mfloat\u001b[39;49m\u001b[43m(\u001b[49m\u001b[43mresult\u001b[49m\u001b[43m[\u001b[49m\u001b[38;5;124;43m\"\u001b[39;49m\u001b[38;5;124;43mResult\u001b[39;49m\u001b[38;5;124;43m\"\u001b[39;49m\u001b[43m]\u001b[49m\u001b[43m[\u001b[49m\u001b[38;5;241;43m-\u001b[39;49m\u001b[38;5;241;43m5\u001b[39;49m\u001b[43m:\u001b[49m\u001b[43m]\u001b[49m\u001b[43m)\u001b[49m\n\u001b[0;32m     20\u001b[0m     result[\u001b[38;5;124m\"\u001b[39m\u001b[38;5;124mresult_minute\u001b[39m\u001b[38;5;124m\"\u001b[39m] \u001b[38;5;241m=\u001b[39m minute\n\u001b[0;32m     21\u001b[0m     result[\u001b[38;5;124m\"\u001b[39m\u001b[38;5;124mresult_second\u001b[39m\u001b[38;5;124m\"\u001b[39m] \u001b[38;5;241m=\u001b[39m second\n",
      "\u001b[1;31mValueError\u001b[0m: could not convert string to float: ':27.4'"
     ]
    }
   ],
   "source": [
    "import csv #imports the csv library\n",
    "from datetime import timedelta \n",
    "\n",
    "medals = [] #creates an empty list called medals\n",
    "\n",
    "with open(csv_file_path, encoding=\"utf8\") as csvfile: #uses open to open csv_file_path as csvfile\n",
    "    reader = csv.DictReader(csvfile) #passes the csvfile into the DictReader method of csv library and assigns to reader var.\n",
    "    for row in reader: #iterates over reader using the loop var. row\n",
    "        medals.append(row) #appends each row into the medals list.\n",
    "\n",
    "for year in medals: #initializing a for loop over medals using year as the for var. \n",
    "    string_year = year[\"Year\"] #now it's looking at the \"Year\" key and assigning the value to the var string_year\n",
    "    year[\"int_year\"] = int(string_year) #passes string_year into the int function converting it to an int and assign to new key \"int_year\"\n",
    "    #does the above for every year in the ordered dictionary of medals list\n",
    "    \n",
    "for result in medals:\n",
    "    minute = int(result[\"Result\"][:2])\n",
    "    second = float(result[\"Result\"][-5:])\n",
    "    \n",
    "    result[\"result_minute\"] = minute\n",
    "    result[\"result_second\"] = second"
   ]
  },
  {
   "cell_type": "code",
   "execution_count": 30,
   "id": "4e1d0e9a",
   "metadata": {},
   "outputs": [
    {
     "data": {
      "text/plain": [
       "[{'Gender': 'M',\n",
       "  'Event': '10000M Men',\n",
       "  'Location': 'Rio',\n",
       "  'Year': '2016',\n",
       "  'Medal': 'G',\n",
       "  'Name': 'Mohamed FARAH',\n",
       "  'Nationality': 'GBR',\n",
       "  'Result': '25:05.17',\n",
       "  'int_year': 2016,\n",
       "  'result_minute': 25,\n",
       "  'result_second': 5.17},\n",
       " {'Gender': 'M',\n",
       "  'Event': '10000M Men',\n",
       "  'Location': 'Rio',\n",
       "  'Year': '2016',\n",
       "  'Medal': 'S',\n",
       "  'Name': 'Paul Kipngetich TANUI',\n",
       "  'Nationality': 'KEN',\n",
       "  'Result': '27:05.64',\n",
       "  'int_year': 2016,\n",
       "  'result_minute': 27,\n",
       "  'result_second': 5.64},\n",
       " {'Gender': 'M',\n",
       "  'Event': '10000M Men',\n",
       "  'Location': 'Rio',\n",
       "  'Year': '2016',\n",
       "  'Medal': 'B',\n",
       "  'Name': 'Tamirat TOLA',\n",
       "  'Nationality': 'ETH',\n",
       "  'Result': '27:06.26',\n",
       "  'int_year': 2016,\n",
       "  'result_minute': 27,\n",
       "  'result_second': 6.26},\n",
       " {'Gender': 'M',\n",
       "  'Event': '10000M Men',\n",
       "  'Location': 'Beijing',\n",
       "  'Year': '2008',\n",
       "  'Medal': 'G',\n",
       "  'Name': 'Kenenisa BEKELE',\n",
       "  'Nationality': 'ETH',\n",
       "  'Result': '27:01.17',\n",
       "  'int_year': 2008,\n",
       "  'result_minute': 27,\n",
       "  'result_second': 1.17},\n",
       " {'Gender': 'M',\n",
       "  'Event': '10000M Men',\n",
       "  'Location': 'Beijing',\n",
       "  'Year': '2008',\n",
       "  'Medal': 'S',\n",
       "  'Name': 'Sileshi SIHINE',\n",
       "  'Nationality': 'ETH',\n",
       "  'Result': '27:02.77',\n",
       "  'int_year': 2008,\n",
       "  'result_minute': 27,\n",
       "  'result_second': 2.77},\n",
       " {'Gender': 'M',\n",
       "  'Event': '10000M Men',\n",
       "  'Location': 'Beijing',\n",
       "  'Year': '2008',\n",
       "  'Medal': 'B',\n",
       "  'Name': 'Micah KOGO',\n",
       "  'Nationality': 'KEN',\n",
       "  'Result': '27:04.11',\n",
       "  'int_year': 2008,\n",
       "  'result_minute': 27,\n",
       "  'result_second': 4.11},\n",
       " {'Gender': 'M',\n",
       "  'Event': '10000M Men',\n",
       "  'Location': 'Sydney',\n",
       "  'Year': '2000',\n",
       "  'Medal': 'G',\n",
       "  'Name': 'Haile GEBRSELASSIE',\n",
       "  'Nationality': 'ETH',\n",
       "  'Result': '27:18.20',\n",
       "  'int_year': 2000,\n",
       "  'result_minute': 27,\n",
       "  'result_second': 18.2},\n",
       " {'Gender': 'M',\n",
       "  'Event': '10000M Men',\n",
       "  'Location': 'Sydney',\n",
       "  'Year': '2000',\n",
       "  'Medal': 'S',\n",
       "  'Name': 'Paul TERGAT',\n",
       "  'Nationality': 'KEN',\n",
       "  'Result': '27:18.29',\n",
       "  'int_year': 2000,\n",
       "  'result_minute': 27,\n",
       "  'result_second': 18.29},\n",
       " {'Gender': 'M',\n",
       "  'Event': '10000M Men',\n",
       "  'Location': 'Sydney',\n",
       "  'Year': '2000',\n",
       "  'Medal': 'B',\n",
       "  'Name': 'Assefa MEZGEBU',\n",
       "  'Nationality': 'ETH',\n",
       "  'Result': '27:19.75',\n",
       "  'int_year': 2000,\n",
       "  'result_minute': 27,\n",
       "  'result_second': 19.75},\n",
       " {'Gender': 'M',\n",
       "  'Event': '10000M Men',\n",
       "  'Location': 'Barcelona',\n",
       "  'Year': '1992',\n",
       "  'Medal': 'G',\n",
       "  'Name': 'Khalid SKAH',\n",
       "  'Nationality': 'MAR',\n",
       "  'Result': '27:46.70',\n",
       "  'int_year': 1992,\n",
       "  'result_minute': 27,\n",
       "  'result_second': 46.7},\n",
       " {'Gender': 'M',\n",
       "  'Event': '10000M Men',\n",
       "  'Location': 'Barcelona',\n",
       "  'Year': '1992',\n",
       "  'Medal': 'S',\n",
       "  'Name': 'Richard CHELIMO',\n",
       "  'Nationality': 'KEN',\n",
       "  'Result': '27:47.72',\n",
       "  'int_year': 1992,\n",
       "  'result_minute': 27,\n",
       "  'result_second': 47.72},\n",
       " {'Gender': 'M',\n",
       "  'Event': '10000M Men',\n",
       "  'Location': 'Barcelona',\n",
       "  'Year': '1992',\n",
       "  'Medal': 'B',\n",
       "  'Name': 'Addis ABEBE',\n",
       "  'Nationality': 'ETH',\n",
       "  'Result': '28:00.07',\n",
       "  'int_year': 1992,\n",
       "  'result_minute': 28,\n",
       "  'result_second': 0.07},\n",
       " {'Gender': 'M',\n",
       "  'Event': '10000M Men',\n",
       "  'Location': 'Los Angeles',\n",
       "  'Year': '1984',\n",
       "  'Medal': 'G',\n",
       "  'Name': 'Alberto COVA',\n",
       "  'Nationality': 'ITA',\n",
       "  'Result': '27:47.54',\n",
       "  'int_year': 1984,\n",
       "  'result_minute': 27,\n",
       "  'result_second': 47.54},\n",
       " {'Gender': 'M',\n",
       "  'Event': '10000M Men',\n",
       "  'Location': 'Los Angeles',\n",
       "  'Year': '1984',\n",
       "  'Medal': 'S',\n",
       "  'Name': 'Michael MCLEOD',\n",
       "  'Nationality': 'GBR',\n",
       "  'Result': '28:06.22',\n",
       "  'int_year': 1984,\n",
       "  'result_minute': 28,\n",
       "  'result_second': 6.22},\n",
       " {'Gender': 'M',\n",
       "  'Event': '10000M Men',\n",
       "  'Location': 'Los Angeles',\n",
       "  'Year': '1984',\n",
       "  'Medal': 'B',\n",
       "  'Name': 'Michael MUSYOKI',\n",
       "  'Nationality': 'KEN',\n",
       "  'Result': '28:06.46',\n",
       "  'int_year': 1984,\n",
       "  'result_minute': 28,\n",
       "  'result_second': 6.46},\n",
       " {'Gender': 'M',\n",
       "  'Event': '10000M Men',\n",
       "  'Location': 'Montreal',\n",
       "  'Year': '1976',\n",
       "  'Medal': 'G',\n",
       "  'Name': 'Lasse VIREN',\n",
       "  'Nationality': 'FIN',\n",
       "  'Result': '27:40.38',\n",
       "  'int_year': 1976,\n",
       "  'result_minute': 27,\n",
       "  'result_second': 40.38},\n",
       " {'Gender': 'M',\n",
       "  'Event': '10000M Men',\n",
       "  'Location': 'Montreal',\n",
       "  'Year': '1976',\n",
       "  'Medal': 'S',\n",
       "  'Name': 'Carlos LOPES',\n",
       "  'Nationality': 'POR',\n",
       "  'Result': '27:45.17',\n",
       "  'int_year': 1976,\n",
       "  'result_minute': 27,\n",
       "  'result_second': 45.17},\n",
       " {'Gender': 'M',\n",
       "  'Event': '10000M Men',\n",
       "  'Location': 'Montreal',\n",
       "  'Year': '1976',\n",
       "  'Medal': 'B',\n",
       "  'Name': 'Brendan FOSTER',\n",
       "  'Nationality': 'GBR',\n",
       "  'Result': '27:54.92',\n",
       "  'int_year': 1976,\n",
       "  'result_minute': 27,\n",
       "  'result_second': 54.92},\n",
       " {'Gender': 'M',\n",
       "  'Event': '10000M Men',\n",
       "  'Location': 'Mexico',\n",
       "  'Year': '1968',\n",
       "  'Medal': 'G',\n",
       "  'Name': 'Naftali TEMU',\n",
       "  'Nationality': 'KEN',\n",
       "  'Result': '29:27.4',\n",
       "  'int_year': 1968},\n",
       " {'Gender': 'M',\n",
       "  'Event': '10000M Men',\n",
       "  'Location': 'Mexico',\n",
       "  'Year': '1968',\n",
       "  'Medal': 'S',\n",
       "  'Name': 'Mamo WOLDE',\n",
       "  'Nationality': 'ETH',\n",
       "  'Result': '29:28.0',\n",
       "  'int_year': 1968}]"
      ]
     },
     "execution_count": 30,
     "metadata": {},
     "output_type": "execute_result"
    }
   ],
   "source": [
    "medals[0:20]"
   ]
  },
  {
   "cell_type": "code",
   "execution_count": null,
   "id": "393ef901",
   "metadata": {},
   "outputs": [],
   "source": []
  }
 ],
 "metadata": {
  "kernelspec": {
   "display_name": "Python 3 (ipykernel)",
   "language": "python",
   "name": "python3"
  },
  "language_info": {
   "codemirror_mode": {
    "name": "ipython",
    "version": 3
   },
   "file_extension": ".py",
   "mimetype": "text/x-python",
   "name": "python",
   "nbconvert_exporter": "python",
   "pygments_lexer": "ipython3",
   "version": "3.9.12"
  }
 },
 "nbformat": 4,
 "nbformat_minor": 5
}
