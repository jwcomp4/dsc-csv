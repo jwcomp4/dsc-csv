{
 "cells": [
  {
   "cell_type": "code",
   "execution_count": 1,
   "id": "d17f293a",
   "metadata": {},
   "outputs": [],
   "source": [
    "csv_file_path = \"./olympic_medals.csv\""
   ]
  },
  {
   "cell_type": "code",
   "execution_count": 4,
   "id": "bdcdcac5",
   "metadata": {
    "scrolled": true
   },
   "outputs": [
    {
     "name": "stdout",
     "output_type": "stream",
     "text": [
      "Gender,Event,Location,Year,Medal,Name,Nationality,Result\n",
      "\n"
     ]
    }
   ],
   "source": [
    "with open(csv_file_path, encoding=\"utf8\") as csvfile:\n",
    "    print(csvfile.readline())"
   ]
  },
  {
   "cell_type": "code",
   "execution_count": 6,
   "id": "2ba6a422",
   "metadata": {},
   "outputs": [
    {
     "name": "stdout",
     "output_type": "stream",
     "text": [
      "M,10000M Men,Rio,2016,G,Mohamed FARAH,GBR,25:05.17\n",
      "\n"
     ]
    }
   ],
   "source": [
    "with open(csv_file_path, encoding=\"utf8\") as csvfile:\n",
    "    csvfile.readline()\n",
    "    print(csvfile.readline())"
   ]
  },
  {
   "cell_type": "markdown",
   "id": "a3abc5fd",
   "metadata": {},
   "source": [
    "You can put the following into terminal/gitbash and get the same result:\n",
    "$ head -n 2 ./olympic_medals.csv\n"
   ]
  },
  {
   "cell_type": "code",
   "execution_count": 8,
   "id": "6102f17f",
   "metadata": {},
   "outputs": [
    {
     "name": "stdout",
     "output_type": "stream",
     "text": [
      "{'Gender': 'M', 'Event': '10000M Men', 'Location': 'Rio', 'Year': '2016', 'Medal': 'G', 'Name': 'Mohamed FARAH', 'Nationality': 'GBR', 'Result': '25:05.17'}\n"
     ]
    }
   ],
   "source": [
    "import csv\n",
    "\n",
    "with open(csv_file_path, encoding=\"utf8\") as csvfile:\n",
    "    reader = csv.DictReader(csvfile)\n",
    "    print(next(reader))\n",
    "    \n",
    "#DictReader creates an ordered dictionary that looks like a list of tuple. Real first row values paired with the collumn headers. \n",
    "#makes the column header the dictionary key."
   ]
  },
  {
   "cell_type": "code",
   "execution_count": 9,
   "id": "f0dfae0a",
   "metadata": {},
   "outputs": [],
   "source": [
    "medals = []\n",
    "\n",
    "with open(csv_file_path, encoding=\"utf8\") as csvfile:\n",
    "    reader = csv.DictReader(csvfile)\n",
    "    for row in reader:\n",
    "        medals.append(row)\n",
    "\n",
    "#creates an empty list called medals\n",
    "#opens the csv_fle_path as csvfile\n",
    "#passes csvile into the DictReader method of csv library and assigns to var. reader\n",
    "#creates a for loop that iterates over the rows in reader and then appends each row to the medals list"
   ]
  },
  {
   "cell_type": "code",
   "execution_count": 10,
   "id": "3468430b",
   "metadata": {},
   "outputs": [
    {
     "data": {
      "text/plain": [
       "[{'Gender': 'M',\n",
       "  'Event': '10000M Men',\n",
       "  'Location': 'Rio',\n",
       "  'Year': '2016',\n",
       "  'Medal': 'G',\n",
       "  'Name': 'Mohamed FARAH',\n",
       "  'Nationality': 'GBR',\n",
       "  'Result': '25:05.17'},\n",
       " {'Gender': 'M',\n",
       "  'Event': '10000M Men',\n",
       "  'Location': 'Rio',\n",
       "  'Year': '2016',\n",
       "  'Medal': 'S',\n",
       "  'Name': 'Paul Kipngetich TANUI',\n",
       "  'Nationality': 'KEN',\n",
       "  'Result': '27:05.64'},\n",
       " {'Gender': 'M',\n",
       "  'Event': '10000M Men',\n",
       "  'Location': 'Rio',\n",
       "  'Year': '2016',\n",
       "  'Medal': 'B',\n",
       "  'Name': 'Tamirat TOLA',\n",
       "  'Nationality': 'ETH',\n",
       "  'Result': '27:06.26'}]"
      ]
     },
     "execution_count": 10,
     "metadata": {},
     "output_type": "execute_result"
    }
   ],
   "source": [
    "medals[0:3]"
   ]
  },
  {
   "cell_type": "code",
   "execution_count": 11,
   "id": "d903919b",
   "metadata": {},
   "outputs": [
    {
     "data": {
      "text/plain": [
       "{'Gender': 'M',\n",
       " 'Event': '10000M Men',\n",
       " 'Location': 'Rio',\n",
       " 'Year': '2016',\n",
       " 'Medal': 'G',\n",
       " 'Name': 'Mohamed FARAH',\n",
       " 'Nationality': 'GBR',\n",
       " 'Result': '25:05.17'}"
      ]
     },
     "execution_count": 11,
     "metadata": {},
     "output_type": "execute_result"
    }
   ],
   "source": [
    "medals[0]"
   ]
  },
  {
   "cell_type": "code",
   "execution_count": 18,
   "id": "d0980b0c",
   "metadata": {},
   "outputs": [],
   "source": [
    "import csv #imports the csv library\n",
    "\n",
    "medals = [] #creates an empty list called medals\n",
    "\n",
    "with open(csv_file_path, encoding=\"utf8\") as csvfile: #uses open to open csv_file_path as csvfile\n",
    "    reader = csv.DictReader(csvfile) #passes the csvfile into the DictReader method of csv library and assigns to reader var.\n",
    "    for row in reader: #iterates over reader using the loop var. row\n",
    "        medals.append(row) #appends each row into the medals list.\n",
    "\n",
    "for year in medals: #initializing a for loop over medals using year as the for var. \n",
    "    string_year = year[\"Year\"] #now it's looking at the \"Year\" key and assigning the value to the var string_year\n",
    "    year[\"int_year\"] = int(string_year) #passes string_year into the int function converting it to an int and assign to new key \"int_year\"\n",
    "    #does the above for every year in the ordered dictionary of medals list"
   ]
  },
  {
   "cell_type": "code",
   "execution_count": 19,
   "id": "5a25cf61",
   "metadata": {},
   "outputs": [
    {
     "data": {
      "text/plain": [
       "{'Gender': 'M',\n",
       " 'Event': '10000M Men',\n",
       " 'Location': 'Rio',\n",
       " 'Year': '2016',\n",
       " 'Medal': 'G',\n",
       " 'Name': 'Mohamed FARAH',\n",
       " 'Nationality': 'GBR',\n",
       " 'Result': '25:05.17',\n",
       " 'int_year': 2016}"
      ]
     },
     "execution_count": 19,
     "metadata": {},
     "output_type": "execute_result"
    }
   ],
   "source": [
    "medals[0]\n",
    "#note how int_year is added to the list."
   ]
  },
  {
   "cell_type": "markdown",
   "id": "f91f8ae6",
   "metadata": {},
   "source": [
    "process the medals data to add numeric values for the \"Result\" value for minutes and seconds"
   ]
  }
 ],
 "metadata": {
  "kernelspec": {
   "display_name": "Python 3 (ipykernel)",
   "language": "python",
   "name": "python3"
  },
  "language_info": {
   "codemirror_mode": {
    "name": "ipython",
    "version": 3
   },
   "file_extension": ".py",
   "mimetype": "text/x-python",
   "name": "python",
   "nbconvert_exporter": "python",
   "pygments_lexer": "ipython3",
   "version": "3.9.12"
  }
 },
 "nbformat": 4,
 "nbformat_minor": 5
}
